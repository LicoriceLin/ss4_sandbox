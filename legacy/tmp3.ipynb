{
 "cells": [
  {
   "cell_type": "code",
   "execution_count": 1,
   "metadata": {},
   "outputs": [
    {
     "name": "stderr",
     "output_type": "stream",
     "text": [
      "/home/mutest1/miniconda3/lib/python3.12/site-packages/tqdm/auto.py:21: TqdmWarning: IProgress not found. Please update jupyter and ipywidgets. See https://ipywidgets.readthedocs.io/en/stable/user_install.html\n",
      "  from .autonotebook import tqdm as notebook_tqdm\n"
     ]
    }
   ],
   "source": [
    "from reseek2 import cal_mu_v2"
   ]
  },
  {
   "cell_type": "code",
   "execution_count": 3,
   "metadata": {},
   "outputs": [
    {
     "data": {
      "text/plain": [
       "CompletedProcess(args=[PosixPath('/home/mutest1/SS4/ss4_sandbox/reseek2'), '-convert', PosixPath('/home/mutest1/SS4/ss4_sandbox/train/50palm/folds/u33719.pdb'), '-alpha', 'Conf3', '-feature_fasta', 'structs.fa'], returncode=0, stdout=b'\\nreseek v1.1.i86linux64 [82e4773]\\n(C) Copyright 2024 Robert C. Edgar\\n\\n', stderr=b'[convert /home/mutest1/SS4/ss4_sandbox/train/50palm/folds/u33719.pdb]\\n---------------------------------------------------------------------------------\\nAA:20/0.398 NbrDist:16/0.129 MySS:16/0.202 NbrMySS:16/0.149 RevNbrDist:16/0.094 \\nDstNxtHlx:16/0.005 StrandDens:16/0.018 NormDens:16/0.004 \\nGapO/E 0.686/0.052 FwdM 0.10 MinFS 7.0 Lamda 32 Omega 29.0 DALIw 3.0 MinU 0\\n---------------------------------------------------------------------------------\\n00:00 2.6Mb 0 chains, 0.0% too short (min 50, shortest 0)\\r1 chains, 0.0% too short (min 50, shortest 0)            \\n\\n         1 Input chains (1)\\n         1 Converted (1, 100.0%)\\n')"
      ]
     },
     "execution_count": 3,
     "metadata": {},
     "output_type": "execute_result"
    }
   ],
   "source": [
    "cal_mu_v2('/home/mutest1/SS4/ss4_sandbox/train/50palm/folds/u33719.pdb','./reseek2')"
   ]
  },
  {
   "cell_type": "code",
   "execution_count": null,
   "metadata": {},
   "outputs": [],
   "source": []
  }
 ],
 "metadata": {
  "kernelspec": {
   "display_name": "base",
   "language": "python",
   "name": "python3"
  },
  "language_info": {
   "codemirror_mode": {
    "name": "ipython",
    "version": 3
   },
   "file_extension": ".py",
   "mimetype": "text/x-python",
   "name": "python",
   "nbconvert_exporter": "python",
   "pygments_lexer": "ipython3",
   "version": "3.12.2"
  }
 },
 "nbformat": 4,
 "nbformat_minor": 2
}
